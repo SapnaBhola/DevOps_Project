{
  "nbformat": 4,
  "nbformat_minor": 0,
  "metadata": {
    "colab": {
      "provenance": []
    },
    "kernelspec": {
      "name": "python3",
      "display_name": "Python 3"
    },
    "language_info": {
      "name": "python"
    }
  },
  "cells": [
    {
      "cell_type": "code",
      "execution_count": null,
      "metadata": {
        "colab": {
          "base_uri": "https://localhost:8080/"
        },
        "id": "fjrnHNIJOKfb",
        "outputId": "298d5a52-5c66-4c31-d07f-01686a1a01b1"
      },
      "outputs": [
        {
          "output_type": "stream",
          "name": "stdout",
          "text": [
            "Drive already mounted at /content/drive; to attempt to forcibly remount, call drive.mount(\"/content/drive\", force_remount=True).\n"
          ]
        }
      ],
      "source": [
        "from google.colab import drive\n",
        "drive.mount('/content/drive')"
      ]
    },
    {
      "cell_type": "code",
      "source": [
        "# To list files in the directory where you saved the model\n",
        "import os\n",
        "os.listdir(\"/content/drive/MyDrive/\")  # Look for your model file in the MyDrive folder\n"
      ],
      "metadata": {
        "id": "IMUxv-kbOeDJ"
      },
      "execution_count": null,
      "outputs": []
    },
    {
      "cell_type": "code",
      "source": [
        "import cv2\n",
        "import numpy as np\n",
        "from tensorflow.keras.models import load_model\n",
        "from tensorflow.keras.preprocessing.image import img_to_array\n",
        "\n",
        "# Load the trained model\n",
        "model_path = \"/content/drive/MyDrive/Plant_Disease_Dataset/plant_disease_model.keras\"\n",
        "model = load_model(model_path)\n",
        "\n",
        "# Provide the full path to your test image (PASTE IT HERE)\n",
        "test_image_path = \"/content/drive/MyDrive/Plant_Disease_Dataset/test/test/TomatoHealthy4.JPG\"\n",
        "\n",
        "# Read and preprocess the image\n",
        "image = cv2.imread(test_image_path)\n",
        "if image is None:\n",
        "    print(\"❌ Error: Image not found at the specified path.\")\n",
        "else:\n",
        "    image = cv2.resize(image, (256, 256))  # Resize to match model input size\n",
        "    image = img_to_array(image)  # Convert to array\n",
        "    image = np.expand_dims(image, axis=0)  # Add batch dimension\n",
        "    image = image / 255.0  # Normalize\n",
        "\n",
        "    # Make a prediction\n",
        "    prediction = model.predict(image)\n",
        "    predicted_label = np.argmax(prediction)\n",
        "\n",
        "    # Define class labels (same as used in training)\n",
        "    class_labels = ['Potato___Early_blight', 'Potato___Late_blight', 'Potato___healthy',\n",
        "                    'Tomato___Bacterial_spot', 'Tomato___Early_blight', 'Tomato___Late_blight', 'Tomato___healthy']\n",
        "\n",
        "    print(f\"✅ Predicted Class: {class_labels[predicted_label]}\")\n"
      ],
      "metadata": {
        "colab": {
          "base_uri": "https://localhost:8080/"
        },
        "id": "RJKlYHWlRH57",
        "outputId": "ef175ae9-2ba8-4f34-e7cc-37adb6b14892"
      },
      "execution_count": null,
      "outputs": [
        {
          "output_type": "stream",
          "name": "stdout",
          "text": [
            "\u001b[1m1/1\u001b[0m \u001b[32m━━━━━━━━━━━━━━━━━━━━\u001b[0m\u001b[37m\u001b[0m \u001b[1m0s\u001b[0m 111ms/step\n",
            "✅ Predicted Class: Tomato___healthy\n"
          ]
        }
      ]
    },
    {
      "cell_type": "code",
      "source": [
        "file_path = \"/content/drive/MyDrive/app.py\"\n",
        "with open(file_path, \"w\") as f:\n",
        "    f.write(\"\")  # Creates an empty file\n",
        "print(f\"✅ Created: {file_path}\")\n"
      ],
      "metadata": {
        "colab": {
          "base_uri": "https://localhost:8080/"
        },
        "id": "hFxtVkRJEYzd",
        "outputId": "4e715192-8841-45ea-99ee-5c4e7a1da6e8"
      },
      "execution_count": null,
      "outputs": [
        {
          "output_type": "stream",
          "name": "stdout",
          "text": [
            "✅ Created: /content/drive/MyDrive/app.py\n"
          ]
        }
      ]
    },
    {
      "cell_type": "code",
      "source": [
        "!pip install streamlit pyngrok --quiet\n"
      ],
      "metadata": {
        "id": "T8fCrOsrFZW_",
        "colab": {
          "base_uri": "https://localhost:8080/"
        },
        "outputId": "5c3af73d-c77c-4874-cde1-3acd401b63d1"
      },
      "execution_count": null,
      "outputs": [
        {
          "output_type": "stream",
          "name": "stdout",
          "text": [
            "\u001b[2K     \u001b[90m━━━━━━━━━━━━━━━━━━━━━━━━━━━━━━━━━━━━━━━━\u001b[0m \u001b[32m44.3/44.3 kB\u001b[0m \u001b[31m1.9 MB/s\u001b[0m eta \u001b[36m0:00:00\u001b[0m\n",
            "\u001b[2K   \u001b[90m━━━━━━━━━━━━━━━━━━━━━━━━━━━━━━━━━━━━━━━━\u001b[0m \u001b[32m9.9/9.9 MB\u001b[0m \u001b[31m44.1 MB/s\u001b[0m eta \u001b[36m0:00:00\u001b[0m\n",
            "\u001b[2K   \u001b[90m━━━━━━━━━━━━━━━━━━━━━━━━━━━━━━━━━━━━━━━━\u001b[0m \u001b[32m6.9/6.9 MB\u001b[0m \u001b[31m61.7 MB/s\u001b[0m eta \u001b[36m0:00:00\u001b[0m\n",
            "\u001b[2K   \u001b[90m━━━━━━━━━━━━━━━━━━━━━━━━━━━━━━━━━━━━━━━━\u001b[0m \u001b[32m79.1/79.1 kB\u001b[0m \u001b[31m6.4 MB/s\u001b[0m eta \u001b[36m0:00:00\u001b[0m\n",
            "\u001b[?25h"
          ]
        }
      ]
    },
    {
      "cell_type": "code",
      "source": [
        "!pip install streamlit -q\n",
        "!pip install pyngrok"
      ],
      "metadata": {
        "colab": {
          "base_uri": "https://localhost:8080/"
        },
        "id": "NJIqPABEPAKB",
        "outputId": "c02b3627-2ada-4f44-c494-0eb7fd52e9bb"
      },
      "execution_count": null,
      "outputs": [
        {
          "output_type": "stream",
          "name": "stdout",
          "text": [
            "Requirement already satisfied: pyngrok in /usr/local/lib/python3.11/dist-packages (7.2.11)\n",
            "Requirement already satisfied: PyYAML>=5.1 in /usr/local/lib/python3.11/dist-packages (from pyngrok) (6.0.2)\n"
          ]
        }
      ]
    },
    {
      "cell_type": "code",
      "source": [
        "!streamlit version\n"
      ],
      "metadata": {
        "colab": {
          "base_uri": "https://localhost:8080/"
        },
        "id": "lfA2DKlVyivu",
        "outputId": "8136987f-576a-4f5c-bc18-3e70755fab1c"
      },
      "execution_count": null,
      "outputs": [
        {
          "output_type": "stream",
          "name": "stdout",
          "text": [
            "Streamlit, version 1.45.1\n"
          ]
        }
      ]
    },
    {
      "cell_type": "code",
      "source": [
        "!ngrok authtoken 2yZtQeCNXCTr4d7h27ZNP2kbTGb_7pu2B45eCxweAAUUD21un"
      ],
      "metadata": {
        "colab": {
          "base_uri": "https://localhost:8080/"
        },
        "id": "hRKi4HbkPWTQ",
        "outputId": "9d977032-fc18-41aa-9ab8-5745210bd463"
      },
      "execution_count": null,
      "outputs": [
        {
          "output_type": "stream",
          "name": "stdout",
          "text": [
            "Authtoken saved to configuration file: /root/.config/ngrok/ngrok.yml\n"
          ]
        }
      ]
    },
    {
      "cell_type": "code",
      "source": [
        "!pkill -f streamlit\n",
        "!pkill -f ngrok"
      ],
      "metadata": {
        "id": "3Imc30LLPiJu"
      },
      "execution_count": null,
      "outputs": []
    },
    {
      "cell_type": "code",
      "source": [
        "!streamlit run /content/drive/MyDrive/Plant_Disease_Dataset/app.py &>/dev/null &\n"
      ],
      "metadata": {
        "id": "lw-y2PMH0Nlq"
      },
      "execution_count": null,
      "outputs": []
    },
    {
      "cell_type": "code",
      "source": [
        "!mkdir -p ~/.streamlit/logs\n",
        "!streamlit run app.py --server.port 8501 > ~/.streamlit/logs/streamlit.log 2>&1 &"
      ],
      "metadata": {
        "id": "sNuncqwKP2Vc"
      },
      "execution_count": null,
      "outputs": []
    },
    {
      "cell_type": "code",
      "source": [
        "!lsof -i :8501\n"
      ],
      "metadata": {
        "id": "hqmSUot3Pq3J",
        "colab": {
          "base_uri": "https://localhost:8080/"
        },
        "outputId": "9818104d-fb85-4c97-925e-0588a15c2ef3"
      },
      "execution_count": null,
      "outputs": [
        {
          "output_type": "stream",
          "name": "stdout",
          "text": [
            "COMMAND    PID USER   FD   TYPE DEVICE SIZE/OFF NODE NAME\n",
            "streamlit 4112 root    6u  IPv4 127054      0t0  TCP *:8501 (LISTEN)\n",
            "streamlit 4112 root    7u  IPv6 127055      0t0  TCP *:8501 (LISTEN)\n"
          ]
        }
      ]
    },
    {
      "cell_type": "code",
      "source": [
        "from pyngrok import ngrok\n",
        "\n",
        "# Restart Ngrok on port 8501\n",
        "public_url = ngrok.connect(8501)\n",
        "print(\"Public URL:\", public_url)\n"
      ],
      "metadata": {
        "colab": {
          "base_uri": "https://localhost:8080/"
        },
        "id": "Gf3hzHZaFeb9",
        "outputId": "79aad44b-edc1-4a53-c8b5-1152d847280c"
      },
      "execution_count": null,
      "outputs": [
        {
          "output_type": "stream",
          "name": "stdout",
          "text": [
            "Public URL: NgrokTunnel: \"https://f1f7-34-106-23-197.ngrok-free.app\" -> \"http://localhost:8501\"\n"
          ]
        }
      ]
    },
    {
      "cell_type": "code",
      "source": [],
      "metadata": {
        "id": "kkRZ4W_8aM7D"
      },
      "execution_count": null,
      "outputs": []
    }
  ]
}